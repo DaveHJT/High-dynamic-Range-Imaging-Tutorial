{
 "cells": [
  {
   "cell_type": "code",
   "execution_count": 1,
   "metadata": {},
   "outputs": [],
   "source": [
    "import numpy as np\n",
    "import matplotlib.pyplot as plt\n",
    "import matplotlib.image as image"
   ]
  },
  {
   "cell_type": "code",
   "execution_count": null,
   "metadata": {},
   "outputs": [],
   "source": [
    "im_under = image.imread(\"images/canon-2EV\")\n",
    "im_normal = image.imread(\"images/canon-2EV\")\n",
    "im_over = image.imread(\"images/canon-2EV\")\n",
    "\n",
    "fig = plt.figure(figsize = (12, 5))\n",
    "plt.subplot(121)\n",
    "plt.title(\"left image (reference)\")\n",
    "plt.imshow(im_left)\n",
    "plt.subplot(122)\n",
    "plt.title(\"right image\")\n",
    "plt.imshow(im_right)"
   ]
  }
 ],
 "metadata": {
  "kernelspec": {
   "display_name": "Python 3",
   "language": "python",
   "name": "python3"
  },
  "language_info": {
   "codemirror_mode": {
    "name": "ipython",
    "version": 3
   },
   "file_extension": ".py",
   "mimetype": "text/x-python",
   "name": "python",
   "nbconvert_exporter": "python",
   "pygments_lexer": "ipython3",
   "version": "3.8.5"
  }
 },
 "nbformat": 4,
 "nbformat_minor": 4
}
